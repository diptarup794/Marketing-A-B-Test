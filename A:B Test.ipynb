{
 "cells": [
  {
   "cell_type": "code",
   "execution_count": 1,
   "id": "0f6d0cc5",
   "metadata": {
    "execution": {
     "iopub.execute_input": "2024-09-02T18:09:05.649362Z",
     "iopub.status.busy": "2024-09-02T18:09:05.648769Z",
     "iopub.status.idle": "2024-09-02T18:09:07.961540Z",
     "shell.execute_reply": "2024-09-02T18:09:07.959755Z"
    },
    "papermill": {
     "duration": 2.329416,
     "end_time": "2024-09-02T18:09:07.964765",
     "exception": false,
     "start_time": "2024-09-02T18:09:05.635349",
     "status": "completed"
    },
    "tags": []
   },
   "outputs": [],
   "source": [
    "import numpy as np\n",
    "import pandas as pd\n",
    "import seaborn as sns\n",
    "import matplotlib.pyplot as plt\n",
    "from scipy import stats \n",
    "\n",
    "import random"
   ]
  },
  {
   "cell_type": "code",
   "execution_count": 2,
   "id": "4c036f08",
   "metadata": {
    "execution": {
     "iopub.execute_input": "2024-09-02T18:09:07.990395Z",
     "iopub.status.busy": "2024-09-02T18:09:07.989577Z",
     "iopub.status.idle": "2024-09-02T18:09:08.820282Z",
     "shell.execute_reply": "2024-09-02T18:09:08.818982Z"
    },
    "papermill": {
     "duration": 0.846958,
     "end_time": "2024-09-02T18:09:08.823070",
     "exception": false,
     "start_time": "2024-09-02T18:09:07.976112",
     "status": "completed"
    },
    "tags": []
   },
   "outputs": [
    {
     "data": {
      "text/html": [
       "<div>\n",
       "<style scoped>\n",
       "    .dataframe tbody tr th:only-of-type {\n",
       "        vertical-align: middle;\n",
       "    }\n",
       "\n",
       "    .dataframe tbody tr th {\n",
       "        vertical-align: top;\n",
       "    }\n",
       "\n",
       "    .dataframe thead th {\n",
       "        text-align: right;\n",
       "    }\n",
       "</style>\n",
       "<table border=\"1\" class=\"dataframe\">\n",
       "  <thead>\n",
       "    <tr style=\"text-align: right;\">\n",
       "      <th></th>\n",
       "      <th>Unnamed: 0</th>\n",
       "      <th>user id</th>\n",
       "      <th>test group</th>\n",
       "      <th>converted</th>\n",
       "      <th>total ads</th>\n",
       "      <th>most ads day</th>\n",
       "      <th>most ads hour</th>\n",
       "    </tr>\n",
       "  </thead>\n",
       "  <tbody>\n",
       "    <tr>\n",
       "      <th>0</th>\n",
       "      <td>0</td>\n",
       "      <td>1069124</td>\n",
       "      <td>ad</td>\n",
       "      <td>False</td>\n",
       "      <td>130</td>\n",
       "      <td>Monday</td>\n",
       "      <td>20</td>\n",
       "    </tr>\n",
       "    <tr>\n",
       "      <th>1</th>\n",
       "      <td>1</td>\n",
       "      <td>1119715</td>\n",
       "      <td>ad</td>\n",
       "      <td>False</td>\n",
       "      <td>93</td>\n",
       "      <td>Tuesday</td>\n",
       "      <td>22</td>\n",
       "    </tr>\n",
       "    <tr>\n",
       "      <th>2</th>\n",
       "      <td>2</td>\n",
       "      <td>1144181</td>\n",
       "      <td>ad</td>\n",
       "      <td>False</td>\n",
       "      <td>21</td>\n",
       "      <td>Tuesday</td>\n",
       "      <td>18</td>\n",
       "    </tr>\n",
       "    <tr>\n",
       "      <th>3</th>\n",
       "      <td>3</td>\n",
       "      <td>1435133</td>\n",
       "      <td>ad</td>\n",
       "      <td>False</td>\n",
       "      <td>355</td>\n",
       "      <td>Tuesday</td>\n",
       "      <td>10</td>\n",
       "    </tr>\n",
       "    <tr>\n",
       "      <th>4</th>\n",
       "      <td>4</td>\n",
       "      <td>1015700</td>\n",
       "      <td>ad</td>\n",
       "      <td>False</td>\n",
       "      <td>276</td>\n",
       "      <td>Friday</td>\n",
       "      <td>14</td>\n",
       "    </tr>\n",
       "  </tbody>\n",
       "</table>\n",
       "</div>"
      ],
      "text/plain": [
       "   Unnamed: 0  user id test group  converted  total ads most ads day  \\\n",
       "0           0  1069124         ad      False        130       Monday   \n",
       "1           1  1119715         ad      False         93      Tuesday   \n",
       "2           2  1144181         ad      False         21      Tuesday   \n",
       "3           3  1435133         ad      False        355      Tuesday   \n",
       "4           4  1015700         ad      False        276       Friday   \n",
       "\n",
       "   most ads hour  \n",
       "0             20  \n",
       "1             22  \n",
       "2             18  \n",
       "3             10  \n",
       "4             14  "
      ]
     },
     "execution_count": 2,
     "metadata": {},
     "output_type": "execute_result"
    }
   ],
   "source": [
    "df = pd.read_csv('/kaggle/input/marketing-ab-testing/marketing_AB.csv')\n",
    "df.head()"
   ]
  },
  {
   "cell_type": "markdown",
   "id": "97381bc3",
   "metadata": {
    "papermill": {
     "duration": 0.009607,
     "end_time": "2024-09-02T18:09:08.843017",
     "exception": false,
     "start_time": "2024-09-02T18:09:08.833410",
     "status": "completed"
    },
    "tags": []
   },
   "source": [
    "### Data Exploration"
   ]
  },
  {
   "cell_type": "code",
   "execution_count": 3,
   "id": "fee1375a",
   "metadata": {
    "execution": {
     "iopub.execute_input": "2024-09-02T18:09:08.864849Z",
     "iopub.status.busy": "2024-09-02T18:09:08.864384Z",
     "iopub.status.idle": "2024-09-02T18:09:08.871483Z",
     "shell.execute_reply": "2024-09-02T18:09:08.870383Z"
    },
    "papermill": {
     "duration": 0.020774,
     "end_time": "2024-09-02T18:09:08.873755",
     "exception": false,
     "start_time": "2024-09-02T18:09:08.852981",
     "status": "completed"
    },
    "tags": []
   },
   "outputs": [
    {
     "data": {
      "text/plain": [
       "(588101, 7)"
      ]
     },
     "execution_count": 3,
     "metadata": {},
     "output_type": "execute_result"
    }
   ],
   "source": [
    "df.shape"
   ]
  },
  {
   "cell_type": "code",
   "execution_count": 4,
   "id": "0eeafeb8",
   "metadata": {
    "execution": {
     "iopub.execute_input": "2024-09-02T18:09:08.895738Z",
     "iopub.status.busy": "2024-09-02T18:09:08.895301Z",
     "iopub.status.idle": "2024-09-02T18:09:08.903537Z",
     "shell.execute_reply": "2024-09-02T18:09:08.902193Z"
    },
    "papermill": {
     "duration": 0.022213,
     "end_time": "2024-09-02T18:09:08.906083",
     "exception": false,
     "start_time": "2024-09-02T18:09:08.883870",
     "status": "completed"
    },
    "tags": []
   },
   "outputs": [
    {
     "data": {
      "text/plain": [
       "Index(['Unnamed: 0', 'user id', 'test group', 'converted', 'total ads',\n",
       "       'most ads day', 'most ads hour'],\n",
       "      dtype='object')"
      ]
     },
     "execution_count": 4,
     "metadata": {},
     "output_type": "execute_result"
    }
   ],
   "source": [
    "df.columns"
   ]
  },
  {
   "cell_type": "code",
   "execution_count": 5,
   "id": "27be4b5c",
   "metadata": {
    "execution": {
     "iopub.execute_input": "2024-09-02T18:09:08.928986Z",
     "iopub.status.busy": "2024-09-02T18:09:08.927925Z",
     "iopub.status.idle": "2024-09-02T18:09:09.010083Z",
     "shell.execute_reply": "2024-09-02T18:09:09.008935Z"
    },
    "papermill": {
     "duration": 0.096241,
     "end_time": "2024-09-02T18:09:09.012823",
     "exception": false,
     "start_time": "2024-09-02T18:09:08.916582",
     "status": "completed"
    },
    "tags": []
   },
   "outputs": [
    {
     "name": "stdout",
     "output_type": "stream",
     "text": [
      "<class 'pandas.core.frame.DataFrame'>\n",
      "RangeIndex: 588101 entries, 0 to 588100\n",
      "Data columns (total 7 columns):\n",
      " #   Column         Non-Null Count   Dtype \n",
      "---  ------         --------------   ----- \n",
      " 0   Unnamed: 0     588101 non-null  int64 \n",
      " 1   user id        588101 non-null  int64 \n",
      " 2   test group     588101 non-null  object\n",
      " 3   converted      588101 non-null  bool  \n",
      " 4   total ads      588101 non-null  int64 \n",
      " 5   most ads day   588101 non-null  object\n",
      " 6   most ads hour  588101 non-null  int64 \n",
      "dtypes: bool(1), int64(4), object(2)\n",
      "memory usage: 27.5+ MB\n"
     ]
    }
   ],
   "source": [
    "df.info()"
   ]
  },
  {
   "cell_type": "code",
   "execution_count": 6,
   "id": "466f96bd",
   "metadata": {
    "execution": {
     "iopub.execute_input": "2024-09-02T18:09:09.035417Z",
     "iopub.status.busy": "2024-09-02T18:09:09.034712Z",
     "iopub.status.idle": "2024-09-02T18:09:09.124736Z",
     "shell.execute_reply": "2024-09-02T18:09:09.123656Z"
    },
    "papermill": {
     "duration": 0.104102,
     "end_time": "2024-09-02T18:09:09.127277",
     "exception": false,
     "start_time": "2024-09-02T18:09:09.023175",
     "status": "completed"
    },
    "tags": []
   },
   "outputs": [
    {
     "data": {
      "text/html": [
       "<div>\n",
       "<style scoped>\n",
       "    .dataframe tbody tr th:only-of-type {\n",
       "        vertical-align: middle;\n",
       "    }\n",
       "\n",
       "    .dataframe tbody tr th {\n",
       "        vertical-align: top;\n",
       "    }\n",
       "\n",
       "    .dataframe thead th {\n",
       "        text-align: right;\n",
       "    }\n",
       "</style>\n",
       "<table border=\"1\" class=\"dataframe\">\n",
       "  <thead>\n",
       "    <tr style=\"text-align: right;\">\n",
       "      <th></th>\n",
       "      <th>Unnamed: 0</th>\n",
       "      <th>user id</th>\n",
       "      <th>total ads</th>\n",
       "      <th>most ads hour</th>\n",
       "    </tr>\n",
       "  </thead>\n",
       "  <tbody>\n",
       "    <tr>\n",
       "      <th>count</th>\n",
       "      <td>588101.000000</td>\n",
       "      <td>5.881010e+05</td>\n",
       "      <td>588101.000000</td>\n",
       "      <td>588101.000000</td>\n",
       "    </tr>\n",
       "    <tr>\n",
       "      <th>mean</th>\n",
       "      <td>294050.000000</td>\n",
       "      <td>1.310692e+06</td>\n",
       "      <td>24.820876</td>\n",
       "      <td>14.469061</td>\n",
       "    </tr>\n",
       "    <tr>\n",
       "      <th>std</th>\n",
       "      <td>169770.279668</td>\n",
       "      <td>2.022260e+05</td>\n",
       "      <td>43.715181</td>\n",
       "      <td>4.834634</td>\n",
       "    </tr>\n",
       "    <tr>\n",
       "      <th>min</th>\n",
       "      <td>0.000000</td>\n",
       "      <td>9.000000e+05</td>\n",
       "      <td>1.000000</td>\n",
       "      <td>0.000000</td>\n",
       "    </tr>\n",
       "    <tr>\n",
       "      <th>25%</th>\n",
       "      <td>147025.000000</td>\n",
       "      <td>1.143190e+06</td>\n",
       "      <td>4.000000</td>\n",
       "      <td>11.000000</td>\n",
       "    </tr>\n",
       "    <tr>\n",
       "      <th>50%</th>\n",
       "      <td>294050.000000</td>\n",
       "      <td>1.313725e+06</td>\n",
       "      <td>13.000000</td>\n",
       "      <td>14.000000</td>\n",
       "    </tr>\n",
       "    <tr>\n",
       "      <th>75%</th>\n",
       "      <td>441075.000000</td>\n",
       "      <td>1.484088e+06</td>\n",
       "      <td>27.000000</td>\n",
       "      <td>18.000000</td>\n",
       "    </tr>\n",
       "    <tr>\n",
       "      <th>max</th>\n",
       "      <td>588100.000000</td>\n",
       "      <td>1.654483e+06</td>\n",
       "      <td>2065.000000</td>\n",
       "      <td>23.000000</td>\n",
       "    </tr>\n",
       "  </tbody>\n",
       "</table>\n",
       "</div>"
      ],
      "text/plain": [
       "          Unnamed: 0       user id      total ads  most ads hour\n",
       "count  588101.000000  5.881010e+05  588101.000000  588101.000000\n",
       "mean   294050.000000  1.310692e+06      24.820876      14.469061\n",
       "std    169770.279668  2.022260e+05      43.715181       4.834634\n",
       "min         0.000000  9.000000e+05       1.000000       0.000000\n",
       "25%    147025.000000  1.143190e+06       4.000000      11.000000\n",
       "50%    294050.000000  1.313725e+06      13.000000      14.000000\n",
       "75%    441075.000000  1.484088e+06      27.000000      18.000000\n",
       "max    588100.000000  1.654483e+06    2065.000000      23.000000"
      ]
     },
     "execution_count": 6,
     "metadata": {},
     "output_type": "execute_result"
    }
   ],
   "source": [
    "df.describe()"
   ]
  },
  {
   "cell_type": "markdown",
   "id": "ee83a554",
   "metadata": {
    "papermill": {
     "duration": 0.010117,
     "end_time": "2024-09-02T18:09:09.148152",
     "exception": false,
     "start_time": "2024-09-02T18:09:09.138035",
     "status": "completed"
    },
    "tags": []
   },
   "source": [
    "### Data Cleaning"
   ]
  },
  {
   "cell_type": "code",
   "execution_count": 7,
   "id": "7f9562bd",
   "metadata": {
    "execution": {
     "iopub.execute_input": "2024-09-02T18:09:09.171067Z",
     "iopub.status.busy": "2024-09-02T18:09:09.170634Z",
     "iopub.status.idle": "2024-09-02T18:09:09.203566Z",
     "shell.execute_reply": "2024-09-02T18:09:09.202350Z"
    },
    "papermill": {
     "duration": 0.047891,
     "end_time": "2024-09-02T18:09:09.206361",
     "exception": false,
     "start_time": "2024-09-02T18:09:09.158470",
     "status": "completed"
    },
    "tags": []
   },
   "outputs": [
    {
     "data": {
      "text/html": [
       "<div>\n",
       "<style scoped>\n",
       "    .dataframe tbody tr th:only-of-type {\n",
       "        vertical-align: middle;\n",
       "    }\n",
       "\n",
       "    .dataframe tbody tr th {\n",
       "        vertical-align: top;\n",
       "    }\n",
       "\n",
       "    .dataframe thead th {\n",
       "        text-align: right;\n",
       "    }\n",
       "</style>\n",
       "<table border=\"1\" class=\"dataframe\">\n",
       "  <thead>\n",
       "    <tr style=\"text-align: right;\">\n",
       "      <th></th>\n",
       "      <th>test group</th>\n",
       "      <th>converted</th>\n",
       "      <th>total ads</th>\n",
       "      <th>most ads day</th>\n",
       "      <th>most ads hour</th>\n",
       "    </tr>\n",
       "  </thead>\n",
       "  <tbody>\n",
       "    <tr>\n",
       "      <th>0</th>\n",
       "      <td>ad</td>\n",
       "      <td>False</td>\n",
       "      <td>130</td>\n",
       "      <td>Monday</td>\n",
       "      <td>20</td>\n",
       "    </tr>\n",
       "    <tr>\n",
       "      <th>1</th>\n",
       "      <td>ad</td>\n",
       "      <td>False</td>\n",
       "      <td>93</td>\n",
       "      <td>Tuesday</td>\n",
       "      <td>22</td>\n",
       "    </tr>\n",
       "    <tr>\n",
       "      <th>2</th>\n",
       "      <td>ad</td>\n",
       "      <td>False</td>\n",
       "      <td>21</td>\n",
       "      <td>Tuesday</td>\n",
       "      <td>18</td>\n",
       "    </tr>\n",
       "    <tr>\n",
       "      <th>3</th>\n",
       "      <td>ad</td>\n",
       "      <td>False</td>\n",
       "      <td>355</td>\n",
       "      <td>Tuesday</td>\n",
       "      <td>10</td>\n",
       "    </tr>\n",
       "    <tr>\n",
       "      <th>4</th>\n",
       "      <td>ad</td>\n",
       "      <td>False</td>\n",
       "      <td>276</td>\n",
       "      <td>Friday</td>\n",
       "      <td>14</td>\n",
       "    </tr>\n",
       "    <tr>\n",
       "      <th>...</th>\n",
       "      <td>...</td>\n",
       "      <td>...</td>\n",
       "      <td>...</td>\n",
       "      <td>...</td>\n",
       "      <td>...</td>\n",
       "    </tr>\n",
       "    <tr>\n",
       "      <th>588096</th>\n",
       "      <td>ad</td>\n",
       "      <td>False</td>\n",
       "      <td>1</td>\n",
       "      <td>Tuesday</td>\n",
       "      <td>23</td>\n",
       "    </tr>\n",
       "    <tr>\n",
       "      <th>588097</th>\n",
       "      <td>ad</td>\n",
       "      <td>False</td>\n",
       "      <td>1</td>\n",
       "      <td>Tuesday</td>\n",
       "      <td>23</td>\n",
       "    </tr>\n",
       "    <tr>\n",
       "      <th>588098</th>\n",
       "      <td>ad</td>\n",
       "      <td>False</td>\n",
       "      <td>3</td>\n",
       "      <td>Tuesday</td>\n",
       "      <td>23</td>\n",
       "    </tr>\n",
       "    <tr>\n",
       "      <th>588099</th>\n",
       "      <td>ad</td>\n",
       "      <td>False</td>\n",
       "      <td>1</td>\n",
       "      <td>Tuesday</td>\n",
       "      <td>23</td>\n",
       "    </tr>\n",
       "    <tr>\n",
       "      <th>588100</th>\n",
       "      <td>ad</td>\n",
       "      <td>False</td>\n",
       "      <td>1</td>\n",
       "      <td>Tuesday</td>\n",
       "      <td>23</td>\n",
       "    </tr>\n",
       "  </tbody>\n",
       "</table>\n",
       "<p>588101 rows × 5 columns</p>\n",
       "</div>"
      ],
      "text/plain": [
       "       test group  converted  total ads most ads day  most ads hour\n",
       "0              ad      False        130       Monday             20\n",
       "1              ad      False         93      Tuesday             22\n",
       "2              ad      False         21      Tuesday             18\n",
       "3              ad      False        355      Tuesday             10\n",
       "4              ad      False        276       Friday             14\n",
       "...           ...        ...        ...          ...            ...\n",
       "588096         ad      False          1      Tuesday             23\n",
       "588097         ad      False          1      Tuesday             23\n",
       "588098         ad      False          3      Tuesday             23\n",
       "588099         ad      False          1      Tuesday             23\n",
       "588100         ad      False          1      Tuesday             23\n",
       "\n",
       "[588101 rows x 5 columns]"
      ]
     },
     "execution_count": 7,
     "metadata": {},
     "output_type": "execute_result"
    }
   ],
   "source": [
    "df.drop(columns = ['Unnamed: 0', 'user id'], inplace = True)\n",
    "df"
   ]
  },
  {
   "cell_type": "code",
   "execution_count": 8,
   "id": "56afc0ba",
   "metadata": {
    "execution": {
     "iopub.execute_input": "2024-09-02T18:09:09.229486Z",
     "iopub.status.busy": "2024-09-02T18:09:09.229068Z",
     "iopub.status.idle": "2024-09-02T18:09:09.242049Z",
     "shell.execute_reply": "2024-09-02T18:09:09.240935Z"
    },
    "papermill": {
     "duration": 0.027303,
     "end_time": "2024-09-02T18:09:09.244478",
     "exception": false,
     "start_time": "2024-09-02T18:09:09.217175",
     "status": "completed"
    },
    "tags": []
   },
   "outputs": [
    {
     "data": {
      "text/html": [
       "<div>\n",
       "<style scoped>\n",
       "    .dataframe tbody tr th:only-of-type {\n",
       "        vertical-align: middle;\n",
       "    }\n",
       "\n",
       "    .dataframe tbody tr th {\n",
       "        vertical-align: top;\n",
       "    }\n",
       "\n",
       "    .dataframe thead th {\n",
       "        text-align: right;\n",
       "    }\n",
       "</style>\n",
       "<table border=\"1\" class=\"dataframe\">\n",
       "  <thead>\n",
       "    <tr style=\"text-align: right;\">\n",
       "      <th></th>\n",
       "      <th>test_group</th>\n",
       "      <th>converted</th>\n",
       "      <th>total_ads</th>\n",
       "      <th>most_ads_day</th>\n",
       "      <th>most_ads_hour</th>\n",
       "    </tr>\n",
       "  </thead>\n",
       "  <tbody>\n",
       "    <tr>\n",
       "      <th>0</th>\n",
       "      <td>ad</td>\n",
       "      <td>False</td>\n",
       "      <td>130</td>\n",
       "      <td>Monday</td>\n",
       "      <td>20</td>\n",
       "    </tr>\n",
       "    <tr>\n",
       "      <th>1</th>\n",
       "      <td>ad</td>\n",
       "      <td>False</td>\n",
       "      <td>93</td>\n",
       "      <td>Tuesday</td>\n",
       "      <td>22</td>\n",
       "    </tr>\n",
       "    <tr>\n",
       "      <th>2</th>\n",
       "      <td>ad</td>\n",
       "      <td>False</td>\n",
       "      <td>21</td>\n",
       "      <td>Tuesday</td>\n",
       "      <td>18</td>\n",
       "    </tr>\n",
       "    <tr>\n",
       "      <th>3</th>\n",
       "      <td>ad</td>\n",
       "      <td>False</td>\n",
       "      <td>355</td>\n",
       "      <td>Tuesday</td>\n",
       "      <td>10</td>\n",
       "    </tr>\n",
       "    <tr>\n",
       "      <th>4</th>\n",
       "      <td>ad</td>\n",
       "      <td>False</td>\n",
       "      <td>276</td>\n",
       "      <td>Friday</td>\n",
       "      <td>14</td>\n",
       "    </tr>\n",
       "  </tbody>\n",
       "</table>\n",
       "</div>"
      ],
      "text/plain": [
       "  test_group  converted  total_ads most_ads_day  most_ads_hour\n",
       "0         ad      False        130       Monday             20\n",
       "1         ad      False         93      Tuesday             22\n",
       "2         ad      False         21      Tuesday             18\n",
       "3         ad      False        355      Tuesday             10\n",
       "4         ad      False        276       Friday             14"
      ]
     },
     "execution_count": 8,
     "metadata": {},
     "output_type": "execute_result"
    }
   ],
   "source": [
    "df.rename(columns = lambda x: x.strip().replace(\" \", \"_\"), inplace = True)\n",
    "df.head()"
   ]
  },
  {
   "cell_type": "code",
   "execution_count": 9,
   "id": "a1380cbd",
   "metadata": {
    "execution": {
     "iopub.execute_input": "2024-09-02T18:09:09.268818Z",
     "iopub.status.busy": "2024-09-02T18:09:09.268400Z",
     "iopub.status.idle": "2024-09-02T18:09:09.332433Z",
     "shell.execute_reply": "2024-09-02T18:09:09.331234Z"
    },
    "papermill": {
     "duration": 0.079023,
     "end_time": "2024-09-02T18:09:09.335069",
     "exception": false,
     "start_time": "2024-09-02T18:09:09.256046",
     "status": "completed"
    },
    "tags": []
   },
   "outputs": [
    {
     "data": {
      "text/plain": [
       "test_group       0\n",
       "converted        0\n",
       "total_ads        0\n",
       "most_ads_day     0\n",
       "most_ads_hour    0\n",
       "dtype: int64"
      ]
     },
     "execution_count": 9,
     "metadata": {},
     "output_type": "execute_result"
    }
   ],
   "source": [
    "df.isna().sum()"
   ]
  },
  {
   "cell_type": "code",
   "execution_count": 10,
   "id": "cedf4585",
   "metadata": {
    "execution": {
     "iopub.execute_input": "2024-09-02T18:09:09.359859Z",
     "iopub.status.busy": "2024-09-02T18:09:09.359448Z",
     "iopub.status.idle": "2024-09-02T18:09:09.490798Z",
     "shell.execute_reply": "2024-09-02T18:09:09.489676Z"
    },
    "papermill": {
     "duration": 0.147186,
     "end_time": "2024-09-02T18:09:09.493529",
     "exception": false,
     "start_time": "2024-09-02T18:09:09.346343",
     "status": "completed"
    },
    "tags": []
   },
   "outputs": [
    {
     "data": {
      "text/plain": [
       "(588101, 5)"
      ]
     },
     "execution_count": 10,
     "metadata": {},
     "output_type": "execute_result"
    }
   ],
   "source": [
    "df.drop_duplicates()\n",
    "df.shape"
   ]
  },
  {
   "cell_type": "code",
   "execution_count": 11,
   "id": "fbb39398",
   "metadata": {
    "execution": {
     "iopub.execute_input": "2024-09-02T18:09:09.520354Z",
     "iopub.status.busy": "2024-09-02T18:09:09.519341Z",
     "iopub.status.idle": "2024-09-02T18:09:09.601035Z",
     "shell.execute_reply": "2024-09-02T18:09:09.599688Z"
    },
    "papermill": {
     "duration": 0.098819,
     "end_time": "2024-09-02T18:09:09.603551",
     "exception": false,
     "start_time": "2024-09-02T18:09:09.504732",
     "status": "completed"
    },
    "tags": []
   },
   "outputs": [
    {
     "name": "stdout",
     "output_type": "stream",
     "text": [
      "Test Group: ['ad' 'psa']\n",
      "Most Ads Day: ['Monday' 'Tuesday' 'Friday' 'Saturday' 'Wednesday' 'Sunday' 'Thursday']\n",
      "Converted: [False  True]\n"
     ]
    }
   ],
   "source": [
    "print(\"Test Group:\", df['test_group'].unique())\n",
    "print(\"Most Ads Day:\", df['most_ads_day'].unique())\n",
    "print(\"Converted:\", df['converted'].unique())"
   ]
  },
  {
   "cell_type": "code",
   "execution_count": 12,
   "id": "86ebd8dd",
   "metadata": {
    "execution": {
     "iopub.execute_input": "2024-09-02T18:09:09.627802Z",
     "iopub.status.busy": "2024-09-02T18:09:09.627041Z",
     "iopub.status.idle": "2024-09-02T18:09:09.635741Z",
     "shell.execute_reply": "2024-09-02T18:09:09.634671Z"
    },
    "papermill": {
     "duration": 0.023151,
     "end_time": "2024-09-02T18:09:09.637868",
     "exception": false,
     "start_time": "2024-09-02T18:09:09.614717",
     "status": "completed"
    },
    "tags": []
   },
   "outputs": [
    {
     "data": {
      "text/plain": [
       "test_group       object\n",
       "converted          bool\n",
       "total_ads         int64\n",
       "most_ads_day     object\n",
       "most_ads_hour     int64\n",
       "dtype: object"
      ]
     },
     "execution_count": 12,
     "metadata": {},
     "output_type": "execute_result"
    }
   ],
   "source": [
    "df.dtypes"
   ]
  },
  {
   "cell_type": "code",
   "execution_count": 13,
   "id": "866a823f",
   "metadata": {
    "execution": {
     "iopub.execute_input": "2024-09-02T18:09:09.662231Z",
     "iopub.status.busy": "2024-09-02T18:09:09.661796Z",
     "iopub.status.idle": "2024-09-02T18:09:09.903806Z",
     "shell.execute_reply": "2024-09-02T18:09:09.902734Z"
    },
    "papermill": {
     "duration": 0.256772,
     "end_time": "2024-09-02T18:09:09.906089",
     "exception": false,
     "start_time": "2024-09-02T18:09:09.649317",
     "status": "completed"
    },
    "tags": []
   },
   "outputs": [
    {
     "data": {
      "text/plain": [
       "test_group       object\n",
       "converted          bool\n",
       "total_ads         int64\n",
       "most_ads_day     object\n",
       "most_ads_hour     int64\n",
       "converted_int     int64\n",
       "dtype: object"
      ]
     },
     "execution_count": 13,
     "metadata": {},
     "output_type": "execute_result"
    }
   ],
   "source": [
    "df['converted_int'] = df['converted'].apply(lambda x: 1 if x == True else 0)\n",
    "df.dtypes"
   ]
  },
  {
   "cell_type": "markdown",
   "id": "7e53a968",
   "metadata": {
    "papermill": {
     "duration": 0.011295,
     "end_time": "2024-09-02T18:09:09.929205",
     "exception": false,
     "start_time": "2024-09-02T18:09:09.917910",
     "status": "completed"
    },
    "tags": []
   },
   "source": [
    "### EDA"
   ]
  },
  {
   "cell_type": "markdown",
   "id": "5f7682da",
   "metadata": {
    "papermill": {
     "duration": 0.011041,
     "end_time": "2024-09-02T18:09:09.952138",
     "exception": false,
     "start_time": "2024-09-02T18:09:09.941097",
     "status": "completed"
    },
    "tags": []
   },
   "source": [
    "Distribution of Cateogorical Columns"
   ]
  },
  {
   "cell_type": "code",
   "execution_count": 14,
   "id": "8c7a5d03",
   "metadata": {
    "execution": {
     "iopub.execute_input": "2024-09-02T18:09:09.976559Z",
     "iopub.status.busy": "2024-09-02T18:09:09.976129Z",
     "iopub.status.idle": "2024-09-02T18:09:09.983273Z",
     "shell.execute_reply": "2024-09-02T18:09:09.982154Z"
    },
    "papermill": {
     "duration": 0.021936,
     "end_time": "2024-09-02T18:09:09.985414",
     "exception": false,
     "start_time": "2024-09-02T18:09:09.963478",
     "status": "completed"
    },
    "tags": []
   },
   "outputs": [
    {
     "data": {
      "text/plain": [
       "Index(['test_group', 'converted', 'total_ads', 'most_ads_day', 'most_ads_hour',\n",
       "       'converted_int'],\n",
       "      dtype='object')"
      ]
     },
     "execution_count": 14,
     "metadata": {},
     "output_type": "execute_result"
    }
   ],
   "source": [
    "df.columns"
   ]
  },
  {
   "cell_type": "code",
   "execution_count": 15,
   "id": "18460553",
   "metadata": {
    "execution": {
     "iopub.execute_input": "2024-09-02T18:09:10.010421Z",
     "iopub.status.busy": "2024-09-02T18:09:10.009996Z",
     "iopub.status.idle": "2024-09-02T18:09:10.016027Z",
     "shell.execute_reply": "2024-09-02T18:09:10.014814Z"
    },
    "papermill": {
     "duration": 0.021678,
     "end_time": "2024-09-02T18:09:10.018492",
     "exception": false,
     "start_time": "2024-09-02T18:09:09.996814",
     "status": "completed"
    },
    "tags": []
   },
   "outputs": [],
   "source": [
    "def val_count(column):\n",
    "    plt.figure(figsize = (7, 5))\n",
    "    sns.countplot(data = df, x = column)\n",
    "    plt.title(f'Value Count - {column}')\n",
    "    plt.show()"
   ]
  },
  {
   "cell_type": "code",
   "execution_count": 16,
   "id": "7a628f16",
   "metadata": {
    "execution": {
     "iopub.execute_input": "2024-09-02T18:09:10.043391Z",
     "iopub.status.busy": "2024-09-02T18:09:10.042978Z",
     "iopub.status.idle": "2024-09-02T18:09:11.639817Z",
     "shell.execute_reply": "2024-09-02T18:09:11.638648Z"
    },
    "papermill": {
     "duration": 1.612069,
     "end_time": "2024-09-02T18:09:11.642415",
     "exception": false,
     "start_time": "2024-09-02T18:09:10.030346",
     "status": "completed"
    },
    "tags": []
   },
   "outputs": [
    {
     "data": {
      "image/png": "[encoded data removed]",
      "text/plain": [
       "<Figure size 700x500 with 1 Axes>"
      ]
     },
     "metadata": {},
     "output_type": "display_data"
    },
    {
     "data": {
      "image/png": "[encoded data removed]",
      "text/plain": [
       "<Figure size 700x500 with 1 Axes>"
      ]
     },
     "metadata": {},
     "output_type": "display_data"
    },
    {
     "data": {
      "image/png": "[encoded data removed]",
      "text/plain": [
       "<Figure size 700x500 with 1 Axes>"
      ]
     },
     "metadata": {},
     "output_type": "display_data"
    },
    {
     "data": {
      "image/png": "[encoded data removed]",
      "text/plain": [
       "<Figure size 700x500 with 1 Axes>"
      ]
     },
     "metadata": {},
     "output_type": "display_data"
    }
   ],
   "source": [
    "col_eda = df.columns[[0, 1, 3, 4]]\n",
    "\n",
    "for i in col_eda:\n",
    "    val_count(i)"
   ]
  },
  {
   "cell_type": "markdown",
   "id": "5e38de24",
   "metadata": {
    "papermill": {
     "duration": 0.01344,
     "end_time": "2024-09-02T18:09:11.669262",
     "exception": false,
     "start_time": "2024-09-02T18:09:11.655822",
     "status": "completed"
    },
    "tags": []
   },
   "source": [
    "Conversion Rates by Test Group Value Counts"
   ]
  },
  {
   "cell_type": "code",
   "execution_count": 17,
   "id": "be762e24",
   "metadata": {
    "execution": {
     "iopub.execute_input": "2024-09-02T18:09:11.697778Z",
     "iopub.status.busy": "2024-09-02T18:09:11.697365Z",
     "iopub.status.idle": "2024-09-02T18:09:11.959559Z",
     "shell.execute_reply": "2024-09-02T18:09:11.957982Z"
    },
    "papermill": {
     "duration": 0.282518,
     "end_time": "2024-09-02T18:09:11.965213",
     "exception": false,
     "start_time": "2024-09-02T18:09:11.682695",
     "status": "completed"
    },
    "tags": []
   },
   "outputs": [
    {
     "data": {
      "text/plain": [
       "Text(0, 0.5, '')"
      ]
     },
     "execution_count": 17,
     "metadata": {},
     "output_type": "execute_result"
    },
    {
     "data": {
      "image/png": "[encoded data removed]",
      "text/plain": [
       "<Figure size 500x500 with 1 Axes>"
      ]
     },
     "metadata": {},
     "output_type": "display_data"
    }
   ],
   "source": [
    "grouped_count = df.groupby('test_group')['converted'].value_counts()\n",
    "grouped_count.plot.pie(figsize = (5, 5), autopct = '%1.1f%%')\n",
    "plt.title('Conversion Rate by Test Group')\n",
    "plt.ylabel('')"
   ]
  },
  {
   "cell_type": "markdown",
   "id": "2608820a",
   "metadata": {
    "papermill": {
     "duration": 0.025735,
     "end_time": "2024-09-02T18:09:12.015299",
     "exception": false,
     "start_time": "2024-09-02T18:09:11.989564",
     "status": "completed"
    },
    "tags": []
   },
   "source": [
    "93.5% users exposed to ads did not convert. \n",
    "2.5% users exposed to ads converted."
   ]
  },
  {
   "cell_type": "markdown",
   "id": "26a86893",
   "metadata": {
    "papermill": {
     "duration": 0.013819,
     "end_time": "2024-09-02T18:09:12.045038",
     "exception": false,
     "start_time": "2024-09-02T18:09:12.031219",
     "status": "completed"
    },
    "tags": []
   },
   "source": [
    "Conversion Rates by Test Group "
   ]
  },
  {
   "cell_type": "code",
   "execution_count": 18,
   "id": "9ed32455",
   "metadata": {
    "execution": {
     "iopub.execute_input": "2024-09-02T18:09:12.074547Z",
     "iopub.status.busy": "2024-09-02T18:09:12.074129Z",
     "iopub.status.idle": "2024-09-02T18:09:12.128401Z",
     "shell.execute_reply": "2024-09-02T18:09:12.127271Z"
    },
    "papermill": {
     "duration": 0.071875,
     "end_time": "2024-09-02T18:09:12.130813",
     "exception": false,
     "start_time": "2024-09-02T18:09:12.058938",
     "status": "completed"
    },
    "tags": []
   },
   "outputs": [
    {
     "data": {
      "text/plain": [
       "test_group\n",
       "ad     0.025547\n",
       "psa    0.017854\n",
       "Name: converted, dtype: float64"
      ]
     },
     "execution_count": 18,
     "metadata": {},
     "output_type": "execute_result"
    }
   ],
   "source": [
    "conversion_rates = df.groupby('test_group')['converted'].mean()\n",
    "conversion_rates"
   ]
  },
  {
   "cell_type": "code",
   "execution_count": 19,
   "id": "f7d3e54c",
   "metadata": {
    "execution": {
     "iopub.execute_input": "2024-09-02T18:09:12.161742Z",
     "iopub.status.busy": "2024-09-02T18:09:12.161286Z",
     "iopub.status.idle": "2024-09-02T18:09:12.416422Z",
     "shell.execute_reply": "2024-09-02T18:09:12.415064Z"
    },
    "papermill": {
     "duration": 0.27419,
     "end_time": "2024-09-02T18:09:12.419142",
     "exception": false,
     "start_time": "2024-09-02T18:09:12.144952",
     "status": "completed"
    },
    "tags": []
   },
   "outputs": [
    {
     "data": {
      "text/plain": [
       "Text(0, 0.5, 'Conversion Rate')"
      ]
     },
     "execution_count": 19,
     "metadata": {},
     "output_type": "execute_result"
    },
    {
     "data": {
      "image/png": "[encoded data removed]",
      "text/plain": [
       "<Figure size 800x500 with 1 Axes>"
      ]
     },
     "metadata": {},
     "output_type": "display_data"
    }
   ],
   "source": [
    "plt.figure(figsize = (8, 5))\n",
    "sns.barplot(x = conversion_rates.index, y = conversion_rates.values)\n",
    "plt.title('Conversion Rates by Test Group')\n",
    "plt.xlabel('Test Group')\n",
    "plt.ylabel('Conversion Rate')\n"
   ]
  },
  {
   "cell_type": "markdown",
   "id": "a39124d6",
   "metadata": {
    "papermill": {
     "duration": 0.014183,
     "end_time": "2024-09-02T18:09:12.447731",
     "exception": false,
     "start_time": "2024-09-02T18:09:12.433548",
     "status": "completed"
    },
    "tags": []
   },
   "source": [
    "Conversion Rate by Most Ads Day "
   ]
  },
  {
   "cell_type": "code",
   "execution_count": 20,
   "id": "26610b1e",
   "metadata": {
    "execution": {
     "iopub.execute_input": "2024-09-02T18:09:12.478740Z",
     "iopub.status.busy": "2024-09-02T18:09:12.478194Z",
     "iopub.status.idle": "2024-09-02T18:09:12.838282Z",
     "shell.execute_reply": "2024-09-02T18:09:12.837018Z"
    },
    "papermill": {
     "duration": 0.378591,
     "end_time": "2024-09-02T18:09:12.840672",
     "exception": false,
     "start_time": "2024-09-02T18:09:12.462081",
     "status": "completed"
    },
    "tags": []
   },
   "outputs": [
    {
     "name": "stdout",
     "output_type": "stream",
     "text": [
      "\n",
      "Conversion Rates by Most Ads Day:\n",
      "most_ads_day\n",
      "Monday       0.032812\n",
      "Tuesday      0.029840\n",
      "Wednesday    0.024942\n",
      "Thursday     0.021571\n",
      "Friday       0.022212\n",
      "Saturday     0.021051\n",
      "Sunday       0.024476\n",
      "Name: converted, dtype: float64\n"
     ]
    },
    {
     "data": {
      "image/png": "[encoded data removed]",
      "text/plain": [
       "<Figure size 1000x500 with 1 Axes>"
      ]
     },
     "metadata": {},
     "output_type": "display_data"
    }
   ],
   "source": [
    "conversion_by_day = df.groupby('most_ads_day')['converted'].mean().reindex(['Monday', 'Tuesday', 'Wednesday', 'Thursday', 'Friday', 'Saturday', 'Sunday'])\n",
    "print(\"\\nConversion Rates by Most Ads Day:\")\n",
    "print(conversion_by_day)\n",
    "\n",
    "\n",
    "plt.figure(figsize=(10, 5))\n",
    "sns.barplot(x=conversion_by_day.index, y=conversion_by_day.values)\n",
    "plt.axhline(df['converted'].mean(), color = 'black', linestyle = '--', label = 'average')\n",
    "plt.legend()\n",
    "plt.title('Conversion Rates by Most Ads Day')\n",
    "plt.xlabel('Day of the Week')\n",
    "plt.ylabel('Conversion Rate')\n",
    "plt.show()"
   ]
  },
  {
   "cell_type": "markdown",
   "id": "72724e11",
   "metadata": {
    "papermill": {
     "duration": 0.015071,
     "end_time": "2024-09-02T18:09:12.871052",
     "exception": false,
     "start_time": "2024-09-02T18:09:12.855981",
     "status": "completed"
    },
    "tags": []
   },
   "source": [
    "Mondays and Tuesdays had the most successful campaigns."
   ]
  },
  {
   "cell_type": "code",
   "execution_count": 21,
   "id": "54c968c7",
   "metadata": {
    "execution": {
     "iopub.execute_input": "2024-09-02T18:09:12.904112Z",
     "iopub.status.busy": "2024-09-02T18:09:12.902974Z",
     "iopub.status.idle": "2024-09-02T18:09:13.297679Z",
     "shell.execute_reply": "2024-09-02T18:09:13.296220Z"
    },
    "papermill": {
     "duration": 0.413945,
     "end_time": "2024-09-02T18:09:13.300205",
     "exception": false,
     "start_time": "2024-09-02T18:09:12.886260",
     "status": "completed"
    },
    "tags": []
   },
   "outputs": [
    {
     "name": "stdout",
     "output_type": "stream",
     "text": [
      "\n",
      "Conversion Rates by Most Ads Hour:\n",
      "most_ads_hour\n",
      "0     0.018425\n",
      "1     0.012911\n",
      "2     0.007313\n",
      "3     0.010452\n",
      "4     0.015235\n",
      "5     0.020915\n",
      "6     0.022244\n",
      "7     0.018111\n",
      "8     0.019516\n",
      "9     0.019191\n",
      "10    0.021521\n",
      "11    0.022116\n",
      "12    0.023828\n",
      "13    0.024677\n",
      "14    0.028063\n",
      "15    0.029653\n",
      "16    0.030772\n",
      "17    0.028210\n",
      "18    0.027380\n",
      "19    0.026720\n",
      "20    0.029803\n",
      "21    0.028923\n",
      "22    0.026105\n",
      "23    0.022662\n",
      "Name: converted, dtype: float64\n"
     ]
    },
    {
     "name": "stderr",
     "output_type": "stream",
     "text": [
      "/opt/conda/lib/python3.10/site-packages/seaborn/_oldcore.py:1119: FutureWarning: use_inf_as_na option is deprecated and will be removed in a future version. Convert inf values to NaN before operating instead.\n",
      "  with pd.option_context('mode.use_inf_as_na', True):\n",
      "/opt/conda/lib/python3.10/site-packages/seaborn/_oldcore.py:1119: FutureWarning: use_inf_as_na option is deprecated and will be removed in a future version. Convert inf values to NaN before operating instead.\n",
      "  with pd.option_context('mode.use_inf_as_na', True):\n"
     ]
    },
    {
     "data": {
      "image/png": "[encoded data removed]",
      "text/plain": [
       "<Figure size 1200x600 with 1 Axes>"
      ]
     },
     "metadata": {},
     "output_type": "display_data"
    }
   ],
   "source": [
    "conversion_by_hour = df.groupby('most_ads_hour')['converted'].mean()\n",
    "print(\"\\nConversion Rates by Most Ads Hour:\")\n",
    "print(conversion_by_hour)\n",
    "\n",
    "plt.figure(figsize=(12, 6))\n",
    "sns.lineplot(x=conversion_by_hour.index, y=conversion_by_hour.values, marker = 'o')\n",
    "plt.title('Conversion Rates by Most Ads Hour')\n",
    "plt.xlabel('Hour of the Day')\n",
    "plt.ylabel('Conversion Rate')\n",
    "plt.xticks(range(0, 24))\n",
    "plt.show()"
   ]
  },
  {
   "cell_type": "markdown",
   "id": "8bcf706c",
   "metadata": {
    "papermill": {
     "duration": 0.01623,
     "end_time": "2024-09-02T18:09:13.333284",
     "exception": false,
     "start_time": "2024-09-02T18:09:13.317054",
     "status": "completed"
    },
    "tags": []
   },
   "source": [
    "The most successful campaigns occurred between 2pm to 4pm."
   ]
  },
  {
   "cell_type": "markdown",
   "id": "2bcd93d7",
   "metadata": {
    "papermill": {
     "duration": 0.015915,
     "end_time": "2024-09-02T18:09:13.365369",
     "exception": false,
     "start_time": "2024-09-02T18:09:13.349454",
     "status": "completed"
    },
    "tags": []
   },
   "source": [
    "### A/B Testing"
   ]
  },
  {
   "cell_type": "markdown",
   "id": "87b36882",
   "metadata": {
    "papermill": {
     "duration": 0.015898,
     "end_time": "2024-09-02T18:09:13.397450",
     "exception": false,
     "start_time": "2024-09-02T18:09:13.381552",
     "status": "completed"
    },
    "tags": []
   },
   "source": [
    "#### Test 1"
   ]
  },
  {
   "cell_type": "markdown",
   "id": "3f1248e3",
   "metadata": {
    "papermill": {
     "duration": 0.017129,
     "end_time": "2024-09-02T18:09:13.430911",
     "exception": false,
     "start_time": "2024-09-02T18:09:13.413782",
     "status": "completed"
    },
    "tags": []
   },
   "source": [
    "Null Hypothesis (H0): There is no difference in conversion rates between Variant A ('ad') and Variant B ('psa').\n",
    "\n",
    "Alternative Hypothesis (H1): There is a difference in conversion rates between Variant A and Variant B."
   ]
  },
  {
   "cell_type": "code",
   "execution_count": 22,
   "id": "c8839516",
   "metadata": {
    "execution": {
     "iopub.execute_input": "2024-09-02T18:09:13.471277Z",
     "iopub.status.busy": "2024-09-02T18:09:13.470794Z",
     "iopub.status.idle": "2024-09-02T18:09:13.581754Z",
     "shell.execute_reply": "2024-09-02T18:09:13.580330Z"
    },
    "papermill": {
     "duration": 0.136749,
     "end_time": "2024-09-02T18:09:13.584302",
     "exception": false,
     "start_time": "2024-09-02T18:09:13.447553",
     "status": "completed"
    },
    "tags": []
   },
   "outputs": [
    {
     "name": "stdout",
     "output_type": "stream",
     "text": [
      "Conversion Rates:test_group\n",
      "ad     0.025547\n",
      "psa    0.017854\n",
      "Name: converted, dtype: float64\n",
      "\n",
      "Conversion Counts:test_group\n",
      "ad     14423\n",
      "psa      420\n",
      "Name: converted, dtype: int64\n",
      "\n",
      "Sample Sizes: test_group\n",
      "ad     564577\n",
      "psa     23524\n",
      "Name: count, dtype: int64\n"
     ]
    }
   ],
   "source": [
    "conversion_counts = df.groupby('test_group')['converted'].sum()\n",
    "sample_sizes = df['test_group'].value_counts()\n",
    "\n",
    "print(f\"Conversion Rates:{conversion_rates}\")\n",
    "print(f\"\\nConversion Counts:{conversion_counts}\")\n",
    "print(f\"\\nSample Sizes: {sample_sizes}\")"
   ]
  },
  {
   "cell_type": "markdown",
   "id": "a882bbe1",
   "metadata": {
    "papermill": {
     "duration": 0.072277,
     "end_time": "2024-09-02T18:09:13.672923",
     "exception": false,
     "start_time": "2024-09-02T18:09:13.600646",
     "status": "completed"
    },
    "tags": []
   },
   "source": [
    "*2 sample Z-test*"
   ]
  },
  {
   "cell_type": "code",
   "execution_count": 23,
   "id": "460e047a",
   "metadata": {
    "execution": {
     "iopub.execute_input": "2024-09-02T18:09:13.708212Z",
     "iopub.status.busy": "2024-09-02T18:09:13.707134Z",
     "iopub.status.idle": "2024-09-02T18:09:13.791182Z",
     "shell.execute_reply": "2024-09-02T18:09:13.789967Z"
    },
    "papermill": {
     "duration": 0.104415,
     "end_time": "2024-09-02T18:09:13.793633",
     "exception": false,
     "start_time": "2024-09-02T18:09:13.689218",
     "status": "completed"
    },
    "tags": []
   },
   "outputs": [
    {
     "name": "stdout",
     "output_type": "stream",
     "text": [
      "Z-statistic: 7.3700781265454145\n",
      "P-value: 1.7052807161559727e-13\n"
     ]
    }
   ],
   "source": [
    "from statsmodels.stats.proportion import proportions_ztest\n",
    "\n",
    "total_users = df['test_group'].value_counts()\n",
    "z_stat, p_val = proportions_ztest(count = conversion_counts, nobs = total_users)\n",
    "\n",
    "print(f\"Z-statistic: {z_stat}\")\n",
    "print(f\"P-value: {p_val}\")"
   ]
  },
  {
   "cell_type": "code",
   "execution_count": 24,
   "id": "8236785f",
   "metadata": {
    "execution": {
     "iopub.execute_input": "2024-09-02T18:09:13.828811Z",
     "iopub.status.busy": "2024-09-02T18:09:13.828345Z",
     "iopub.status.idle": "2024-09-02T18:09:13.835392Z",
     "shell.execute_reply": "2024-09-02T18:09:13.834016Z"
    },
    "papermill": {
     "duration": 0.027708,
     "end_time": "2024-09-02T18:09:13.838025",
     "exception": false,
     "start_time": "2024-09-02T18:09:13.810317",
     "status": "completed"
    },
    "tags": []
   },
   "outputs": [
    {
     "name": "stdout",
     "output_type": "stream",
     "text": [
      "Reject the null hypothesis: There is a statistically significant difference in conversion rates between the two groups.\n"
     ]
    }
   ],
   "source": [
    "alpha = 0.05\n",
    "if p_val < alpha:\n",
    "    print(\"Reject the null hypothesis: There is a statistically significant difference in conversion rates between the two groups.\")\n",
    "else:\n",
    "    print(\"Fail to reject the null hypothesis: There is no statistically significant difference in conversion rates between the two groups.\")"
   ]
  },
  {
   "cell_type": "markdown",
   "id": "354135df",
   "metadata": {
    "papermill": {
     "duration": 0.016332,
     "end_time": "2024-09-02T18:09:13.870791",
     "exception": false,
     "start_time": "2024-09-02T18:09:13.854459",
     "status": "completed"
    },
    "tags": []
   },
   "source": [
    "#### Test 2"
   ]
  },
  {
   "cell_type": "markdown",
   "id": "5845d38e",
   "metadata": {
    "papermill": {
     "duration": 0.01638,
     "end_time": "2024-09-02T18:09:13.904680",
     "exception": false,
     "start_time": "2024-09-02T18:09:13.888300",
     "status": "completed"
    },
    "tags": []
   },
   "source": [
    "Null Hypothesis (H0): There is no significant association between showing ads and the number of purchases.\n",
    "\n",
    "Alternate Hypothesis (H1): There is a significant association between showing ads and the number of purchases."
   ]
  },
  {
   "cell_type": "markdown",
   "id": "70fb5577",
   "metadata": {
    "papermill": {
     "duration": 0.01666,
     "end_time": "2024-09-02T18:09:13.938045",
     "exception": false,
     "start_time": "2024-09-02T18:09:13.921385",
     "status": "completed"
    },
    "tags": []
   },
   "source": [
    "*Chi-Square test*"
   ]
  },
  {
   "cell_type": "code",
   "execution_count": 25,
   "id": "60ada251",
   "metadata": {
    "execution": {
     "iopub.execute_input": "2024-09-02T18:09:13.975041Z",
     "iopub.status.busy": "2024-09-02T18:09:13.974584Z",
     "iopub.status.idle": "2024-09-02T18:09:14.080309Z",
     "shell.execute_reply": "2024-09-02T18:09:14.078972Z"
    },
    "papermill": {
     "duration": 0.127368,
     "end_time": "2024-09-02T18:09:14.082879",
     "exception": false,
     "start_time": "2024-09-02T18:09:13.955511",
     "status": "completed"
    },
    "tags": []
   },
   "outputs": [
    {
     "name": "stdout",
     "output_type": "stream",
     "text": [
      "Chi-square statistic: 54.005823883685245\n",
      "P-value: 1.9989623063390075e-13\n",
      "Reject the null hypothesis: There is a significant association between showing ads and the number of purchases.\n"
     ]
    }
   ],
   "source": [
    "from scipy.stats import chi2_contingency\n",
    "\n",
    "contingency_table = pd.crosstab(df['test_group'], df['converted'])\n",
    "\n",
    "chi2, p, dof, ex = chi2_contingency(contingency_table)\n",
    "\n",
    "print(f\"Chi-square statistic: {chi2}\")\n",
    "print(f\"P-value: {p}\")\n",
    "\n",
    "alpha = 0.05\n",
    "if p < alpha:\n",
    "    print(\"Reject the null hypothesis: There is a significant association between showing ads and the number of purchases.\")\n",
    "else:\n",
    "    print(\"Fail to reject the null hypothesis: There is no significant association between showing ads and the number of purchases.\")\n"
   ]
  },
  {
   "cell_type": "markdown",
   "id": "6bc9a30b",
   "metadata": {
    "papermill": {
     "duration": 0.016362,
     "end_time": "2024-09-02T18:09:14.115764",
     "exception": false,
     "start_time": "2024-09-02T18:09:14.099402",
     "status": "completed"
    },
    "tags": []
   },
   "source": [
    "#### Test 3"
   ]
  },
  {
   "cell_type": "markdown",
   "id": "043b346e",
   "metadata": {
    "papermill": {
     "duration": 0.016384,
     "end_time": "2024-09-02T18:09:14.148584",
     "exception": false,
     "start_time": "2024-09-02T18:09:14.132200",
     "status": "completed"
    },
    "tags": []
   },
   "source": [
    "Null Hypothesis (H0): The mean number of ads shown to users in the 'ad' group is equal to the mean number of ads shown to users in the 'psa' group.\n",
    "\n",
    "Alternate Hypothesis (H1): The mean number of ads shown to users in the 'ad' group is not equal to the mean number of ads shown to users in the 'psa' group."
   ]
  },
  {
   "cell_type": "markdown",
   "id": "cd6e453d",
   "metadata": {
    "papermill": {
     "duration": 0.016146,
     "end_time": "2024-09-02T18:09:14.181152",
     "exception": false,
     "start_time": "2024-09-02T18:09:14.165006",
     "status": "completed"
    },
    "tags": []
   },
   "source": [
    "*2 sample T-test*"
   ]
  },
  {
   "cell_type": "code",
   "execution_count": 26,
   "id": "b8cea53a",
   "metadata": {
    "execution": {
     "iopub.execute_input": "2024-09-02T18:09:14.216183Z",
     "iopub.status.busy": "2024-09-02T18:09:14.215606Z",
     "iopub.status.idle": "2024-09-02T18:09:14.373970Z",
     "shell.execute_reply": "2024-09-02T18:09:14.372777Z"
    },
    "papermill": {
     "duration": 0.178856,
     "end_time": "2024-09-02T18:09:14.376420",
     "exception": false,
     "start_time": "2024-09-02T18:09:14.197564",
     "status": "completed"
    },
    "tags": []
   },
   "outputs": [
    {
     "name": "stdout",
     "output_type": "stream",
     "text": [
      "T-statistic: 0.21799691449238462\n",
      "P-value: 0.8274332524963\n",
      "Fail to reject the null hypothesis: There is no statistically significant difference in the average number of ads shown between the two groups.\n"
     ]
    }
   ],
   "source": [
    "from scipy.stats import ttest_ind\n",
    "\n",
    "df['total_ads'] = pd.to_numeric(df['total_ads'], errors='coerce')\n",
    "\n",
    "ads_group = df[df['test_group'] == 'ad']['total_ads']\n",
    "psa_group = df[df['test_group'] == 'psa']['total_ads']\n",
    "\n",
    "t_stat, p_val = ttest_ind(ads_group, psa_group, equal_var=False)  \n",
    "\n",
    "print(f\"T-statistic: {t_stat}\")\n",
    "print(f\"P-value: {p_val}\")\n",
    "\n",
    "alpha = 0.05\n",
    "if p_val < alpha:\n",
    "    print(\"Reject the null hypothesis: There is a statistically significant difference in the average number of ads shown between the two groups.\")\n",
    "else:\n",
    "    print(\"Fail to reject the null hypothesis: There is no statistically significant difference in the average number of ads shown between the two groups.\")\n"
   ]
  },
  {
   "cell_type": "markdown",
   "id": "95c9dc80",
   "metadata": {
    "papermill": {
     "duration": 0.016255,
     "end_time": "2024-09-02T18:09:14.409731",
     "exception": false,
     "start_time": "2024-09-02T18:09:14.393476",
     "status": "completed"
    },
    "tags": []
   },
   "source": [
    "#### Test 4"
   ]
  },
  {
   "cell_type": "markdown",
   "id": "7b9005eb",
   "metadata": {
    "papermill": {
     "duration": 0.016253,
     "end_time": "2024-09-02T18:09:14.442559",
     "exception": false,
     "start_time": "2024-09-02T18:09:14.426306",
     "status": "completed"
    },
    "tags": []
   },
   "source": [
    "Null Hypothesis (H0): There is a statistically significant difference in the average number of ads viewed between the groups.\n",
    "\n",
    "Alternate Hypothesis (H1): There is no statistically significant difference in the average number of ads viewed between the groups."
   ]
  },
  {
   "cell_type": "markdown",
   "id": "d6ba32af",
   "metadata": {
    "papermill": {
     "duration": 0.016158,
     "end_time": "2024-09-02T18:09:14.475273",
     "exception": false,
     "start_time": "2024-09-02T18:09:14.459115",
     "status": "completed"
    },
    "tags": []
   },
   "source": [
    "*ANOVA test*"
   ]
  },
  {
   "cell_type": "code",
   "execution_count": 27,
   "id": "5fd5dbf7",
   "metadata": {
    "execution": {
     "iopub.execute_input": "2024-09-02T18:09:14.510860Z",
     "iopub.status.busy": "2024-09-02T18:09:14.509749Z",
     "iopub.status.idle": "2024-09-02T18:09:14.660823Z",
     "shell.execute_reply": "2024-09-02T18:09:14.659369Z"
    },
    "papermill": {
     "duration": 0.17131,
     "end_time": "2024-09-02T18:09:14.663282",
     "exception": false,
     "start_time": "2024-09-02T18:09:14.491972",
     "status": "completed"
    },
    "tags": []
   },
   "outputs": [
    {
     "name": "stdout",
     "output_type": "stream",
     "text": [
      "F-statistic: 0.045759626208427315\n",
      "P-value: 0.8306134187285898\n",
      "Fail to reject the null hypothesis: There is no statistically significant difference in the average number of ads viewed between the groups.\n"
     ]
    }
   ],
   "source": [
    "from scipy.stats import f_oneway\n",
    "\n",
    "ad_group = df[df['test_group'] == 'ad']['total_ads']\n",
    "psa_group = df[df['test_group'] == 'psa']['total_ads']\n",
    "\n",
    "f_stat, p_val = f_oneway(ad_group, psa_group)\n",
    "\n",
    "print(f\"F-statistic: {f_stat}\")\n",
    "print(f\"P-value: {p_val}\")\n",
    "\n",
    "alpha = 0.05\n",
    "if p_val < alpha:\n",
    "    print(\"Reject the null hypothesis: There is a statistically significant difference in the average number of ads viewed between the groups.\")\n",
    "else:\n",
    "    print(\"Fail to reject the null hypothesis: There is no statistically significant difference in the average number of ads viewed between the groups.\")"
   ]
  },
  {
   "cell_type": "code",
   "execution_count": null,
   "id": "7d3c1180",
   "metadata": {
    "papermill": {
     "duration": 0.016411,
     "end_time": "2024-09-02T18:09:14.696351",
     "exception": false,
     "start_time": "2024-09-02T18:09:14.679940",
     "status": "completed"
    },
    "tags": []
   },
   "outputs": [],
   "source": []
  }
 ],
 "metadata": {
  "kaggle": {
   "accelerator": "none",
   "dataSources": [
    {
     "datasetId": 1660669,
     "sourceId": 2724653,
     "sourceType": "datasetVersion"
    }
   ],
   "dockerImageVersionId": 30761,
   "isGpuEnabled": false,
   "isInternetEnabled": true,
   "language": "python",
   "sourceType": "notebook"
  },
  "kernelspec": {
   "display_name": "Python 3",
   "language": "python",
   "name": "python3"
  },
  "language_info": {
   "codemirror_mode": {
    "name": "ipython",
    "version": 3
   },
   "file_extension": ".py",
   "mimetype": "text/x-python",
   "name": "python",
   "nbconvert_exporter": "python",
   "pygments_lexer": "ipython3",
   "version": "3.10.14"
  },
  "papermill": {
   "default_parameters": {},
   "duration": 12.623712,
   "end_time": "2024-09-02T18:09:15.437233",
   "environment_variables": {},
   "exception": null,
   "input_path": "__notebook__.ipynb",
   "output_path": "__notebook__.ipynb",
   "parameters": {},
   "start_time": "2024-09-02T18:09:02.813521",
   "version": "2.6.0"
  }
 },
 "nbformat": 4,
 "nbformat_minor": 5
}
